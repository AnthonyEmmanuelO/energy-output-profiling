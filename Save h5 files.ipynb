{
 "cells": [
  {
   "cell_type": "code",
   "execution_count": 1,
   "metadata": {},
   "outputs": [],
   "source": [
    "from matplotlib import pyplot\n",
    "import pandas as pd\n",
    "import numpy as np\n",
    "from os import makedirs"
   ]
  },
  {
   "cell_type": "code",
   "execution_count": 2,
   "metadata": {},
   "outputs": [],
   "source": [
    "from tensorflow import keras\n",
    "from tensorflow.keras import layers\n",
    "import tensorflow_docs as tfdocs\n",
    "import tensorflow_docs.plots\n",
    "import tensorflow_docs.modeling"
   ]
  },
  {
   "cell_type": "code",
   "execution_count": 3,
   "metadata": {},
   "outputs": [],
   "source": [
    "from tensorflow.keras.models import Sequential\n",
    "from tensorflow.keras.layers import Dense\n",
    "from tensorflow.keras.models import Model\n",
    "from tensorflow.keras.layers import Dropout\n",
    "from tensorflow.keras import regularizers\n",
    "from keras.utils import np_utils"
   ]
  },
  {
   "cell_type": "code",
   "execution_count": 4,
   "metadata": {},
   "outputs": [],
   "source": [
    "from sklearn.model_selection import KFold\n",
    "from sklearn.preprocessing import normalize\n",
    "from sklearn.preprocessing import StandardScaler"
   ]
  },
  {
   "cell_type": "code",
   "execution_count": 5,
   "metadata": {},
   "outputs": [],
   "source": [
    "def k_fold(x,y):\n",
    "    kf = KFold(n_splits = 10, shuffle = True)\n",
    "    for train_index, test_index in kf.split(x):\n",
    "    \n",
    "        x_train, x_test = x[train_index], x[test_index] \n",
    "        y_train, y_test = y[train_index], y[test_index]\n",
    "\n",
    "    return x_train, x_test,y_train,y_test"
   ]
  },
  {
   "cell_type": "code",
   "execution_count": 6,
   "metadata": {},
   "outputs": [],
   "source": [
    "def fit_model(x_train, y_train):\n",
    "    model = Sequential()\n",
    "    model.add(Dense(50, input_dim=4, activation='relu',kernel_regularizer=regularizers.l2(0.01)))\n",
    "    model.add(Dropout(0.3))\n",
    "    model.add(Dense(30, activation='relu',kernel_regularizer=regularizers.l2(0.01)))\n",
    "    model.add(Dropout(0.3))\n",
    "    model.add(Dense(10, activation='relu',kernel_regularizer=regularizers.l2(0.01)))\n",
    "    model.add(Dropout(0.3))\n",
    "    model.add(Dense(6,activation='softmax'))\n",
    "        \n",
    "    model.compile(loss='categorical_crossentropy', \n",
    "                      optimizer='adam', \n",
    "                      metrics=['accuracy'])\n",
    "    \n",
    "    early_stop = keras.callbacks.EarlyStopping(monitor='val_loss', patience=10)\n",
    "    model.fit(x_train, y_train, epochs=1000, validation_split = 0.2, verbose=0, \n",
    "                    callbacks=[early_stop, tfdocs.modeling.EpochDots()])\n",
    "    \n",
    "    return model\n",
    "    "
   ]
  },
  {
   "cell_type": "code",
   "execution_count": 7,
   "metadata": {},
   "outputs": [],
   "source": [
    "df= pd.read_csv(\"result.csv\")"
   ]
  },
  {
   "cell_type": "code",
   "execution_count": 8,
   "metadata": {},
   "outputs": [],
   "source": [
    "x = df.copy()\n",
    "y= x.pop(\"clusters_pred\")\n",
    "train_stats = x.describe()\n",
    "train_stats = train_stats.transpose()"
   ]
  },
  {
   "cell_type": "code",
   "execution_count": 9,
   "metadata": {},
   "outputs": [],
   "source": [
    "scaler = StandardScaler()\n",
    "x_scaled = scaler.fit_transform(x)"
   ]
  },
  {
   "cell_type": "code",
   "execution_count": 10,
   "metadata": {},
   "outputs": [],
   "source": [
    "x_train, x_test, y_train, y_test = k_fold(x_scaled, y)"
   ]
  },
  {
   "cell_type": "code",
   "execution_count": 11,
   "metadata": {},
   "outputs": [],
   "source": [
    "y_train=np_utils.to_categorical(y_train,num_classes=6)\n",
    "y_test=np_utils.to_categorical(y_test,num_classes=6)"
   ]
  },
  {
   "cell_type": "code",
   "execution_count": 12,
   "metadata": {},
   "outputs": [],
   "source": [
    "makedirs('models')"
   ]
  },
  {
   "cell_type": "code",
   "execution_count": 13,
   "metadata": {},
   "outputs": [],
   "source": [
    "n_members = 10"
   ]
  },
  {
   "cell_type": "code",
   "execution_count": 14,
   "metadata": {},
   "outputs": [
    {
     "name": "stdout",
     "output_type": "stream",
     "text": [
      "\n",
      "Epoch: 0, accuracy:0.8973,  loss:0.7157,  val_accuracy:0.1068,  val_loss:2.5950,  \n",
      "................>Saved models/model_1.h5\n",
      "\n",
      "Epoch: 0, accuracy:0.8909,  loss:0.7527,  val_accuracy:0.1732,  val_loss:2.6618,  \n",
      "...................>Saved models/model_2.h5\n",
      "\n",
      "Epoch: 0, accuracy:0.8829,  loss:0.7621,  val_accuracy:0.1068,  val_loss:2.7218,  \n",
      "...................>Saved models/model_3.h5\n",
      "\n",
      "Epoch: 0, accuracy:0.8842,  loss:0.7512,  val_accuracy:0.2399,  val_loss:2.2656,  \n",
      ".........................>Saved models/model_4.h5\n",
      "\n",
      "Epoch: 0, accuracy:0.8764,  loss:0.7641,  val_accuracy:0.2458,  val_loss:2.5944,  \n",
      "..................................>Saved models/model_5.h5\n",
      "\n",
      "Epoch: 0, accuracy:0.8591,  loss:0.7744,  val_accuracy:0.1136,  val_loss:2.4783,  \n",
      "...........................>Saved models/model_6.h5\n",
      "\n",
      "Epoch: 0, accuracy:0.8820,  loss:0.7557,  val_accuracy:0.1180,  val_loss:2.2765,  \n",
      ".........................>Saved models/model_7.h5\n",
      "\n",
      "Epoch: 0, accuracy:0.8545,  loss:0.7493,  val_accuracy:0.1484,  val_loss:2.3969,  \n",
      ".............................>Saved models/model_8.h5\n",
      "\n",
      "Epoch: 0, accuracy:0.9031,  loss:0.6934,  val_accuracy:0.1100,  val_loss:2.4123,  \n",
      "...................................>Saved models/model_9.h5\n",
      "\n",
      "Epoch: 0, accuracy:0.8970,  loss:0.7172,  val_accuracy:0.1429,  val_loss:2.4482,  \n",
      "........................................>Saved models/model_10.h5\n"
     ]
    }
   ],
   "source": [
    "for i in range(n_members):\n",
    "    model = fit_model(x_train, y_train)\n",
    "    filename = 'models/model_' + str(i + 1) + '.h5'\n",
    "    model.save(filename)\n",
    "    print('>Saved %s' % filename)"
   ]
  },
  {
   "cell_type": "code",
   "execution_count": null,
   "metadata": {},
   "outputs": [],
   "source": []
  }
 ],
 "metadata": {
  "kernelspec": {
   "display_name": "Python 3",
   "language": "python",
   "name": "python3"
  },
  "language_info": {
   "codemirror_mode": {
    "name": "ipython",
    "version": 3
   },
   "file_extension": ".py",
   "mimetype": "text/x-python",
   "name": "python",
   "nbconvert_exporter": "python",
   "pygments_lexer": "ipython3",
   "version": "3.7.6"
  }
 },
 "nbformat": 4,
 "nbformat_minor": 2
}
